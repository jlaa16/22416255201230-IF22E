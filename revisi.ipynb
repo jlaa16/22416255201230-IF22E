{
 "cells": [
  {
   "cell_type": "code",
   "execution_count": 3,
   "id": "c64f4e81-22f2-4e3e-8c95-736645a5243b",
   "metadata": {},
   "outputs": [
    {
     "name": "stdout",
     "output_type": "stream",
     "text": [
      "MAE: 0.7229729729729732\n",
      "MSE: 0.5559715120525937\n",
      "R²: 0.0\n"
     ]
    }
   ],
   "source": [
    "import pandas as pd\n",
    "from sklearn.model_selection import train_test_split\n",
    "from sklearn.linear_model import LinearRegression\n",
    "from sklearn.metrics import mean_absolute_error, mean_squared_error, r2_score\n",
    "\n",
    "# Contoh data\n",
    "data = {\n",
    "    'waktu_belajar': [5, 7, 3, 6, 8, 2, 4, 9, 10, 1],\n",
    "    'nilai': [3, 4, 2, 3, 4, 1, 2, 4, 4, 0]\n",
    "}\n",
    "df = pd.DataFrame(data)\n",
    "\n",
    "# Membagi data menjadi fitur (X) dan target (y)\n",
    "X = df[['waktu_belajar']]\n",
    "y = df['nilai']\n",
    "\n",
    "# Membagi data menjadi training dan testing set\n",
    "X_train, X_test, y_train, y_test = train_test_split(X, y, test_size=0.2, random_state=42)\n",
    "\n",
    "# Membuat model regresi linear\n",
    "model = LinearRegression()\n",
    "model.fit(X_train, y_train)\n",
    "\n",
    "# Melakukan prediksi\n",
    "predictions = model.predict(X_test)\n",
    "\n",
    "# Evaluasi model\n",
    "mae = mean_absolute_error(y_test, predictions)\n",
    "mse = mean_squared_error(y_test, predictions)\n",
    "r2 = r2_score(y_test, predictions)\n",
    "\n",
    "print(f'MAE: {mae}')\n",
    "print(f'MSE: {mse}')\n",
    "print(f'R²: {r2}')\n"
   ]
  },
  {
   "cell_type": "code",
   "execution_count": 4,
   "id": "61a108db-bf07-4133-900b-710a5fc35b8b",
   "metadata": {},
   "outputs": [
    {
     "name": "stdout",
     "output_type": "stream",
     "text": [
      "Linear Regression: MAE = 0.7229729729729732, MSE = 0.5559715120525937, R² = 0.0\n",
      "Decision Tree: MAE = 0.5, MSE = 0.5, R² = 0.0\n",
      "Random Forest: MAE = 0.44500000000000006, MSE = 0.28505000000000014, R² = 0.0\n"
     ]
    }
   ],
   "source": [
    "from sklearn.linear_model import LinearRegression\n",
    "from sklearn.tree import DecisionTreeRegressor\n",
    "from sklearn.ensemble import RandomForestRegressor\n",
    "from sklearn.metrics import mean_absolute_error, mean_squared_error, r2_score\n",
    "\n",
    "# Fungsi untuk melatih dan mengevaluasi model\n",
    "def evaluate_model(model, X_train, X_test, y_train, y_test):\n",
    "    model.fit(X_train, y_train)\n",
    "    predictions = model.predict(X_test)\n",
    "    mae = mean_absolute_error(y_test, predictions)\n",
    "    mse = mean_squared_error(y_test, predictions)\n",
    "    r2 = r2_score(y_test, predictions)\n",
    "    return mae, mse, r2\n",
    "\n",
    "# Inisialisasi model\n",
    "models = {\n",
    "    \"Linear Regression\": LinearRegression(),\n",
    "    \"Decision Tree\": DecisionTreeRegressor(),\n",
    "    \"Random Forest\": RandomForestRegressor(n_estimators=100)\n",
    "}\n",
    "\n",
    "# Evaluasi setiap model\n",
    "results = {}\n",
    "for name, model in models.items():\n",
    "    mae, mse, r2 = evaluate_model(model, X_train, X_test, y_train, y_test)\n",
    "    results[name] = {\"MAE\": mae, \"MSE\": mse, \"R²\": r2}\n",
    "\n",
    "# Print hasil evaluasi\n",
    "for name, metrics in results.items():\n",
    "    print(f\"{name}: MAE = {metrics['MAE']}, MSE = {metrics['MSE']}, R² = {metrics['R²']}\")\n"
   ]
  },
  {
   "cell_type": "code",
   "execution_count": null,
   "id": "e38610a6-653a-4347-9eb0-e3732679022b",
   "metadata": {},
   "outputs": [],
   "source": []
  }
 ],
 "metadata": {
  "kernelspec": {
   "display_name": "Python 3 (ipykernel)",
   "language": "python",
   "name": "python3"
  },
  "language_info": {
   "codemirror_mode": {
    "name": "ipython",
    "version": 3
   },
   "file_extension": ".py",
   "mimetype": "text/x-python",
   "name": "python",
   "nbconvert_exporter": "python",
   "pygments_lexer": "ipython3",
   "version": "3.11.7"
  }
 },
 "nbformat": 4,
 "nbformat_minor": 5
}
