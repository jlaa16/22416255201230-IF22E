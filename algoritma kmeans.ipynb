{
 "cells": [
  {
   "cell_type": "markdown",
   "id": "ab15a262-c99c-4194-b873-4c03dfffe73f",
   "metadata": {},
   "source": [
    "from sklearn.cluster import KMeans\n",
    "from sklearn.datasets import load_iris\n",
    "imprt pandas as pd\n",
    "import matplotlib.pyplot as pllt\n",
    "\n",
    "#memuat data iris\n",
    "\n",
    "iris = load_iris()\n",
    "df - pd.DataFrame(iris.data, columns=iris.feature_names)"
   ]
  },
  {
   "cell_type": "code",
   "execution_count": 1,
   "id": "a19f1b10-8198-4a72-965c-91cfe859b9fc",
   "metadata": {},
   "outputs": [
    {
     "name": "stdout",
     "output_type": "stream",
     "text": [
      "Requirement already satisfied: pandas in c:\\users\\tuf\\anaconda3\\lib\\site-packages (2.1.4)\n",
      "Requirement already satisfied: numpy<2,>=1.23.2 in c:\\users\\tuf\\anaconda3\\lib\\site-packages (from pandas) (1.26.4)\n",
      "Requirement already satisfied: python-dateutil>=2.8.2 in c:\\users\\tuf\\anaconda3\\lib\\site-packages (from pandas) (2.8.2)\n",
      "Requirement already satisfied: pytz>=2020.1 in c:\\users\\tuf\\anaconda3\\lib\\site-packages (from pandas) (2023.3.post1)\n",
      "Requirement already satisfied: tzdata>=2022.1 in c:\\users\\tuf\\anaconda3\\lib\\site-packages (from pandas) (2023.3)\n",
      "Requirement already satisfied: six>=1.5 in c:\\users\\tuf\\anaconda3\\lib\\site-packages (from python-dateutil>=2.8.2->pandas) (1.16.0)\n",
      "Note: you may need to restart the kernel to use updated packages.\n"
     ]
    }
   ],
   "source": [
    "pip install pandas\n"
   ]
  },
  {
   "cell_type": "code",
   "execution_count": 5,
   "id": "48de147b-36b8-419b-94db-ab8f05746f84",
   "metadata": {},
   "outputs": [
    {
     "ename": "NameError",
     "evalue": "name 'df' is not defined",
     "output_type": "error",
     "traceback": [
      "\u001b[1;31m---------------------------------------------------------------------------\u001b[0m",
      "\u001b[1;31mNameError\u001b[0m                                 Traceback (most recent call last)",
      "Cell \u001b[1;32mIn[5], line 9\u001b[0m\n\u001b[0;32m      6\u001b[0m \u001b[38;5;66;03m#memuat data iris\u001b[39;00m\n\u001b[0;32m      8\u001b[0m iris \u001b[38;5;241m=\u001b[39m load_iris() \n\u001b[1;32m----> 9\u001b[0m df \u001b[38;5;241m-\u001b[39m pd\u001b[38;5;241m.\u001b[39mDataFrame(iris\u001b[38;5;241m.\u001b[39mdata, columns\u001b[38;5;241m=\u001b[39miris\u001b[38;5;241m.\u001b[39mfeature_names)\n\u001b[0;32m     11\u001b[0m \u001b[38;5;66;03m#menggunakan elbow untuk merekomendasikan k terbaik\u001b[39;00m\n\u001b[0;32m     12\u001b[0m distortions \u001b[38;5;241m=\u001b[39m []\n",
      "\u001b[1;31mNameError\u001b[0m: name 'df' is not defined"
     ]
    }
   ],
   "source": [
    "from sklearn.cluster import KMeans \n",
    "from sklearn.datasets import load_iris \n",
    "import pandas as pd \n",
    "import matplotlib.pyplot as pllt\n",
    "\n",
    "#memuat data iris\n",
    "\n",
    "iris = load_iris() \n",
    "df - pd.DataFrame(iris.data, columns=iris.feature_names)\n",
    "\n",
    "#menggunakan elbow untuk merekomendasikan k terbaik\n",
    "distortions = []\n",
    "k_range = range(1,10)\n",
    "for k in k_rang:\n",
    "    kmeans = KMeans(n_clusters=k)\n",
    "    kmenas.fit(df)\n",
    "    distortions.append(kmeans.inertia_)\n",
    "\n",
    "#plotting elbow method\n",
    "plt.plot(k_range, distortions, marker='o')\n",
    "plt.tittle(\"elbow method for optimal K (k-Means)\")\n",
    "plt.xlabel(\"number of cluster (K)\")\n",
    "plt.ylabel('Distortions')\n",
    "plt.show()"
   ]
  },
  {
   "cell_type": "code",
   "execution_count": null,
   "id": "9a2637de-e552-46bc-ab83-7339276d6d6d",
   "metadata": {},
   "outputs": [],
   "source": []
  },
  {
   "cell_type": "code",
   "execution_count": null,
   "id": "e774964d-b468-4b84-95de-69910f23cc66",
   "metadata": {},
   "outputs": [],
   "source": []
  }
 ],
 "metadata": {
  "kernelspec": {
   "display_name": "Python 3 (ipykernel)",
   "language": "python",
   "name": "python3"
  },
  "language_info": {
   "codemirror_mode": {
    "name": "ipython",
    "version": 3
   },
   "file_extension": ".py",
   "mimetype": "text/x-python",
   "name": "python",
   "nbconvert_exporter": "python",
   "pygments_lexer": "ipython3",
   "version": "3.11.7"
  }
 },
 "nbformat": 4,
 "nbformat_minor": 5
}
